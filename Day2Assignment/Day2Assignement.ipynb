{
 "cells": [
  {
   "cell_type": "code",
   "execution_count": 3,
   "metadata": {},
   "outputs": [
    {
     "name": "stdout",
     "output_type": "stream",
     "text": [
      "1\n",
      "2\n",
      "3\n",
      "4\n",
      "5\n",
      "6\n",
      "7\n",
      "8\n",
      "9\n",
      "10\n",
      "[2, 4, 6, 8, 10]\n"
     ]
    }
   ],
   "source": [
    "#Question-1\n",
    "\n",
    "lst=[]\n",
    "for i in range(10):\n",
    "    num=int(input())\n",
    "    if num%2==0:\n",
    "        lst.append(num)\n",
    "print(lst)"
   ]
  },
  {
   "cell_type": "code",
   "execution_count": 5,
   "metadata": {},
   "outputs": [
    {
     "name": "stdout",
     "output_type": "stream",
     "text": [
      "['H', 'e', 'l', 'l', 'o', ' ', 'M', 'y', ' ', 'n', 'a', 'm', 'e', ' ', 'i', 's', ' ', 'P', 'h', 'a', 'n', 'i']\n"
     ]
    }
   ],
   "source": [
    "#Question-2\n",
    "\n",
    "string=\"Hello My name is Phani\"\n",
    "comp=[each for each in string]\n",
    "print(comp)"
   ]
  },
  {
   "cell_type": "code",
   "execution_count": 12,
   "metadata": {},
   "outputs": [
    {
     "name": "stdout",
     "output_type": "stream",
     "text": [
      "8\n",
      "{1: 1, 2: 4, 3: 9, 4: 16, 5: 25, 6: 36, 7: 49, 8: 64}\n"
     ]
    }
   ],
   "source": [
    "#Question-3\n",
    "\n",
    "inp=int(input())\n",
    "dic={}\n",
    "for i in range(inp):\n",
    "    temp={i+1:(i+1)*(i+1)}\n",
    "    dic.update(temp)\n",
    "print(dic)"
   ]
  },
  {
   "cell_type": "code",
   "execution_count": 28,
   "metadata": {},
   "outputs": [
    {
     "name": "stdout",
     "output_type": "stream",
     "text": [
      "4\n",
      "up 5\n",
      "down 3\n",
      "left 3\n",
      "right 2\n",
      "2\n"
     ]
    }
   ],
   "source": [
    "#Questioin-4\n",
    "\n",
    "Noint=int(input())\n",
    "arDir=[]\n",
    "Hi,Si=0,0\n",
    "for i in range(Noint):\n",
    "    arDir.append(input())\n",
    "for i in range(Noint):\n",
    "    if arDir[i][0].upper()==\"U\":\n",
    "        Hi+=int(arDir[i][len(arDir[i])-1])\n",
    "    elif arDir[i][0].upper()==\"D\":\n",
    "        Hi-=int(arDir[i][len(arDir[i])-1])\n",
    "    elif arDir[i][0].upper()==\"L\":\n",
    "        Si-=int(arDir[i][len(arDir[i])-1])\n",
    "    elif arDir[i][0].upper()==\"R\":\n",
    "        Si+=int(arDir[i][len(arDir[i])-1])\n",
    "dist=Si**2+Hi**2\n",
    "caldist=dist**0.5\n",
    "final=int(round(caldist))\n",
    "print(final)"
   ]
  },
  {
   "cell_type": "code",
   "execution_count": null,
   "metadata": {},
   "outputs": [],
   "source": []
  }
 ],
 "metadata": {
  "kernelspec": {
   "display_name": "Python 3",
   "language": "python",
   "name": "python3"
  },
  "language_info": {
   "codemirror_mode": {
    "name": "ipython",
    "version": 3
   },
   "file_extension": ".py",
   "mimetype": "text/x-python",
   "name": "python",
   "nbconvert_exporter": "python",
   "pygments_lexer": "ipython3",
   "version": "3.8.3"
  }
 },
 "nbformat": 4,
 "nbformat_minor": 4
}
