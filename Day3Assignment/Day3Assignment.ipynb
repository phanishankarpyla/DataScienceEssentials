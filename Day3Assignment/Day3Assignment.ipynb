{
 "cells": [
  {
   "cell_type": "code",
   "execution_count": 6,
   "metadata": {},
   "outputs": [
    {
     "name": "stdout",
     "output_type": "stream",
     "text": [
      "[ 2  5  8 11 14 17 20 23 26 29 32 35 38 41 44 47 50]\n"
     ]
    }
   ],
   "source": [
    "# Question-1\n",
    "\n",
    "import numpy as np\n",
    "\n",
    "narr=np.array([each for each in range (2,51,3)])\n",
    "print(narr)\n",
    "\n"
   ]
  },
  {
   "cell_type": "code",
   "execution_count": 16,
   "metadata": {},
   "outputs": [
    {
     "name": "stdout",
     "output_type": "stream",
     "text": [
      "1 2 3 5 4\n",
      "5 1 4 5 5\n",
      "['1' '2' '3' '5' '4' '5' '1' '4' '5' '5']\n",
      "['1' '1' '2' '3' '4' '4' '5' '5' '5' '5']\n"
     ]
    }
   ],
   "source": [
    "# Question-2\n",
    "\n",
    "lst1=list(input().split(' '))\n",
    "lst2=list(input().split(' '))\n",
    "arr1=np.array(lst1)\n",
    "arr2=np.array(lst2)\n",
    "print(np.concatenate((arr1,arr2)))\n",
    "print(np.sort(np.concatenate((arr1,arr2))))"
   ]
  },
  {
   "cell_type": "code",
   "execution_count": 17,
   "metadata": {},
   "outputs": [
    {
     "name": "stdout",
     "output_type": "stream",
     "text": [
      "(5, 5)\n",
      "25\n"
     ]
    }
   ],
   "source": [
    "# Question-3\n",
    "arrr=np.random.rand(5,5)\n",
    "print(arrr.shape)\n",
    "print(arrr.size)"
   ]
  },
  {
   "cell_type": "code",
   "execution_count": 25,
   "metadata": {},
   "outputs": [
    {
     "name": "stdout",
     "output_type": "stream",
     "text": [
      "(3,)\n",
      "(1, 3)\n",
      "(3, 1)\n"
     ]
    }
   ],
   "source": [
    "#Question-4\n",
    "\n",
    "art=np.array([1,2,3])\n",
    "print(art.shape)\n",
    "art1=art[np.newaxis].shape\n",
    "art2=np.expand_dims(art,axis=1).shape\n",
    "print(art1)\n",
    "print(art2)"
   ]
  },
  {
   "cell_type": "code",
   "execution_count": 31,
   "metadata": {},
   "outputs": [
    {
     "name": "stdout",
     "output_type": "stream",
     "text": [
      "[[0.67420428 0.90071048 0.05986794 0.09861676 0.89103289]\n",
      " [0.66182427 0.17653068 0.71222297 0.72331191 0.88357488]\n",
      " [0.47746781 0.79637653 0.05757795 0.18759139 0.02656688]\n",
      " [0.53425121 0.50762846 0.43800635 0.1115203  0.94047517]\n",
      " [0.47140548 0.82993763 0.75774658 0.98295831 0.7420798 ]\n",
      " [0.93877199 0.48596696 0.42491641 0.55313963 0.12798984]\n",
      " [0.58901364 0.18538767 0.51986036 0.47391014 0.36245984]\n",
      " [0.6160904  0.23213577 0.92988376 0.83256956 0.84301765]\n",
      " [0.28868025 0.26905961 0.89994366 0.37589195 0.30744846]\n",
      " [0.74079501 0.51563007 0.5122986  0.95602131 0.57408096]] \n",
      "\n",
      "[[0.67420428 0.90071048 0.05986794 0.09861676 0.89103289 0.93877199\n",
      "  0.48596696 0.42491641 0.55313963 0.12798984]\n",
      " [0.66182427 0.17653068 0.71222297 0.72331191 0.88357488 0.58901364\n",
      "  0.18538767 0.51986036 0.47391014 0.36245984]\n",
      " [0.47746781 0.79637653 0.05757795 0.18759139 0.02656688 0.6160904\n",
      "  0.23213577 0.92988376 0.83256956 0.84301765]\n",
      " [0.53425121 0.50762846 0.43800635 0.1115203  0.94047517 0.28868025\n",
      "  0.26905961 0.89994366 0.37589195 0.30744846]\n",
      " [0.47140548 0.82993763 0.75774658 0.98295831 0.7420798  0.74079501\n",
      "  0.51563007 0.5122986  0.95602131 0.57408096]]\n"
     ]
    }
   ],
   "source": [
    "# Question-5\n",
    "arrr2=np.random.rand(5,5)\n",
    "print(np.vstack((arrr,arrr2)),\"\\n\")\n",
    "print(np.hstack((arrr,arrr2)))"
   ]
  },
  {
   "cell_type": "code",
   "execution_count": 33,
   "metadata": {},
   "outputs": [
    {
     "name": "stdout",
     "output_type": "stream",
     "text": [
      "[  1   2   4   5   6   8   9  12  31  44  45  61  64 121] \n",
      " [5 5 3 5 6 4 2 2 1 1 1 1 1 1]\n"
     ]
    }
   ],
   "source": [
    "# Question-6\n",
    "\n",
    "Array=np.array([1,2,2,5,4,6,8,9,12,1,1,2,5,6,8,9,8,8,5,2,5,12,45,4,5,121,2,1,6,44,4,64,6,6,6,1,31,61])\n",
    "unique,occur=np.unique(Array,return_counts=True)\n",
    "print(unique,\"\\n\",occur)"
   ]
  },
  {
   "cell_type": "code",
   "execution_count": null,
   "metadata": {},
   "outputs": [],
   "source": []
  }
 ],
 "metadata": {
  "kernelspec": {
   "display_name": "Python 3",
   "language": "python",
   "name": "python3"
  },
  "language_info": {
   "codemirror_mode": {
    "name": "ipython",
    "version": 3
   },
   "file_extension": ".py",
   "mimetype": "text/x-python",
   "name": "python",
   "nbconvert_exporter": "python",
   "pygments_lexer": "ipython3",
   "version": "3.8.3"
  }
 },
 "nbformat": 4,
 "nbformat_minor": 4
}
